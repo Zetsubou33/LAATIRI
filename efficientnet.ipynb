{
 "cells": [
  {
   "cell_type": "code",
   "execution_count": 1,
   "metadata": {},
   "outputs": [],
   "source": [
    "import itertools\n",
    "import os\n",
    "import random\n",
    "import shutil\n",
    "from os import listdir\n",
    "\n",
    "import cv2\n",
    "import h5py\n",
    "import matplotlib.image as mpimg\n",
    "import matplotlib.pyplot as plt\n",
    "import numpy as np\n",
    "import seaborn as sns\n",
    "import tensorflow as tf\n",
    "from sklearn.metrics import classification_report, confusion_matrix\n",
    "from tensorflow.keras import Sequential\n",
    "from tensorflow.keras import backend as K\n",
    "from tensorflow.keras.applications import \\\n",
    "    EfficientNetB0  # Example, can choose other EfficientNet versions\n",
    "from tensorflow.keras.applications import EfficientNetB5, MobileNetV2\n",
    "from tensorflow.keras.applications.imagenet_utils import preprocess_input\n",
    "from tensorflow.keras.callbacks import (EarlyStopping, ModelCheckpoint,\n",
    "                                        ReduceLROnPlateau, TensorBoard)\n",
    "from tensorflow.keras.layers import *\n",
    "from tensorflow.keras.layers import (Dense, Dropout, GlobalAveragePooling2D,\n",
    "                                     Input)\n",
    "from tensorflow.keras.models import Model, Sequential\n",
    "from tensorflow.keras.optimizers import Adam\n",
    "from tensorflow.keras.preprocessing import image\n",
    "from tensorflow.keras.preprocessing import image as image_utils\n",
    "from tensorflow.keras.preprocessing import image_dataset_from_directory\n",
    "from tensorflow.keras.preprocessing.image import (ImageDataGenerator,\n",
    "                                                  img_to_array)"
   ]
  },
  {
   "cell_type": "code",
   "execution_count": null,
   "metadata": {},
   "outputs": [
    {
     "name": "stdout",
     "output_type": "stream",
     "text": [
      "Tue Nov 12 08:01:04 2024       \n",
      "+-----------------------------------------------------------------------------------------+\n",
      "| NVIDIA-SMI 566.03                 Driver Version: 566.03         CUDA Version: 12.7     |\n",
      "|-----------------------------------------+------------------------+----------------------+\n",
      "| GPU  Name                  Driver-Model | Bus-Id          Disp.A | Volatile Uncorr. ECC |\n",
      "| Fan  Temp   Perf          Pwr:Usage/Cap |           Memory-Usage | GPU-Util  Compute M. |\n",
      "|                                         |                        |               MIG M. |\n",
      "|=========================================+========================+======================|\n",
      "|   0  NVIDIA GeForce RTX 4070 ...  WDDM  |   00000000:01:00.0  On |                  N/A |\n",
      "| N/A   51C    P8              6W /   40W |     927MiB /   8188MiB |     21%      Default |\n",
      "|                                         |                        |                  N/A |\n",
      "+-----------------------------------------+------------------------+----------------------+\n",
      "                                                                                         \n",
      "+-----------------------------------------------------------------------------------------+\n",
      "| Processes:                                                                              |\n",
      "|  GPU   GI   CI        PID   Type   Process name                              GPU Memory |\n",
      "|        ID   ID                                                               Usage      |\n",
      "|=========================================================================================|\n",
      "|    0   N/A  N/A     18352    C+G   ...__8wekyb3d8bbwe\\WindowsTerminal.exe      N/A      |\n",
      "|    0   N/A  N/A     20868    C+G   ...a\\Local\\Programs\\Opera GX\\opera.exe      N/A      |\n",
      "|    0   N/A  N/A     27652    C+G   ...ekyb3d8bbwe\\PhoneExperienceHost.exe      N/A      |\n",
      "|    0   N/A  N/A     44264    C+G   ...5n1h2txyewy\\ShellExperienceHost.exe      N/A      |\n",
      "|    0   N/A  N/A     49000    C+G   ...x64__qmba6cd70vzyy\\ArmouryCrate.exe      N/A      |\n",
      "|    0   N/A  N/A     56988    C+G   ...2txyewy\\StartMenuExperienceHost.exe      N/A      |\n",
      "|    0   N/A  N/A     65464    C+G   ...Programs\\Microsoft VS Code\\Code.exe      N/A      |\n",
      "|    0   N/A  N/A     65864    C+G   ...siveControlPanel\\SystemSettings.exe      N/A      |\n",
      "|    0   N/A  N/A     66436    C+G   ...nt.CBS_cw5n1h2txyewy\\SearchHost.exe      N/A      |\n",
      "|    0   N/A  N/A     70828    C+G   C:\\Windows\\explorer.exe                     N/A      |\n",
      "|    0   N/A  N/A     70964    C+G   ...CBS_cw5n1h2txyewy\\TextInputHost.exe      N/A      |\n",
      "|    0   N/A  N/A     71804    C+G   ...GeForce Experience\\NVIDIA Share.exe      N/A      |\n",
      "+-----------------------------------------------------------------------------------------+\n"
     ]
    }
   ],
   "source": [
    "!nvidia-smi"
   ]
  },
  {
   "cell_type": "code",
   "execution_count": null,
   "metadata": {},
   "outputs": [
    {
     "name": "stdout",
     "output_type": "stream",
     "text": [
      "nvcc: NVIDIA (R) Cuda compiler driver\n",
      "Copyright (c) 2005-2023 NVIDIA Corporation\n",
      "Built on Wed_Nov_22_10:30:42_Pacific_Standard_Time_2023\n",
      "Cuda compilation tools, release 12.3, V12.3.107\n",
      "Build cuda_12.3.r12.3/compiler.33567101_0\n"
     ]
    }
   ],
   "source": [
    "!nvcc --version\n"
   ]
  },
  {
   "cell_type": "code",
   "execution_count": null,
   "metadata": {},
   "outputs": [
    {
     "name": "stdout",
     "output_type": "stream",
     "text": [
      "TensorFlow version: 2.18.0\n"
     ]
    }
   ],
   "source": [
    "print(\"TensorFlow version:\", tf.__version__)\n"
   ]
  },
  {
   "cell_type": "code",
   "execution_count": null,
   "metadata": {},
   "outputs": [
    {
     "name": "stdout",
     "output_type": "stream",
     "text": [
      "No GPUs detected.\n"
     ]
    }
   ],
   "source": [
    "gpus = tf.config.list_physical_devices('GPU')\n",
    "if gpus:\n",
    "    print(f\"GPUs detected: {len(gpus)}\")\n",
    "    for gpu in gpus:\n",
    "        print(\"  -\", gpu)\n",
    "else:\n",
    "    print(\"No GPUs detected.\")"
   ]
  },
  {
   "cell_type": "code",
   "execution_count": null,
   "metadata": {},
   "outputs": [
    {
     "name": "stdout",
     "output_type": "stream",
     "text": [
      "No GPU detected. Running on CPU.\n"
     ]
    }
   ],
   "source": [
    "# Check available devices\n",
    "gpus = tf.config.list_physical_devices('GPU')\n",
    "if gpus:\n",
    "    print(f\"GPUs detected: {len(gpus)}\")\n",
    "    # Optionally, set memory growth to avoid TensorFlow using all GPU memory at once\n",
    "    for gpu in gpus:\n",
    "        tf.config.experimental.set_memory_growth(gpu, True)\n",
    "else:\n",
    "    print(\"No GPU detected. Running on CPU.\")"
   ]
  },
  {
   "cell_type": "code",
   "execution_count": null,
   "metadata": {},
   "outputs": [],
   "source": [
    "def show_image(image_path):\n",
    "    image = mpimg.imread(image_path)\n",
    "    plt.imshow(image)\n",
    "\n",
    "def preprocess_image(image_path):\n",
    "    show_image(image_path)\n",
    "    image = image_utils.load_img(image_path, target_size=(256, 256))\n",
    "    image = image_utils.img_to_array(image)\n",
    "    image = image.reshape(1, 256, 256, 3)\n",
    "    image = preprocess_input(image)\n",
    "    return image\n",
    "\n",
    "def classify_main_image(model, image):\n",
    "    prediction = model.predict(image)\n",
    "    main_classes = ['Healthy', 'Diseased']\n",
    "    main_class_index = np.argmax(prediction)\n",
    "    return main_class_index, main_classes[main_class_index]\n"
   ]
  },
  {
   "cell_type": "code",
   "execution_count": null,
   "metadata": {},
   "outputs": [],
   "source": [
    "def plot_confusion_matrix(cm, classes,\n",
    "                          normalize=False,\n",
    "                          title='Confusion matrix',\n",
    "                          cmap=plt.cm.Blues):\n",
    "    \"\"\"\n",
    "    This function prints and plots the confusion matrix.\n",
    "    Normalization can be applied by setting `normalize=True`.\n",
    "    \"\"\"\n",
    "    plt.imshow(cm, interpolation='nearest', cmap=cmap)\n",
    "    plt.title(title)\n",
    "    plt.colorbar()\n",
    "    tick_marks = np.arange(len(classes))\n",
    "    plt.xticks(tick_marks, classes, rotation=45)\n",
    "    plt.yticks(tick_marks, classes)\n",
    "\n",
    "    if normalize:\n",
    "        cm = cm.astype('float') / cm.sum(axis=1)[:, np.newaxis]\n",
    "        print(\"Normalized confusion matrix\")\n",
    "    else:\n",
    "        print('Confusion matrix, without normalization')\n",
    "\n",
    "    print(cm)\n",
    "\n",
    "    thresh = cm.max() / 2.\n",
    "    for i, j in itertools.product(range(cm.shape[0]), range(cm.shape[1])):\n",
    "        plt.text(j, i, f\"{cm[i, j]:.2f}\" if normalize else f\"{cm[i, j]}\",\n",
    "                 horizontalalignment=\"center\",\n",
    "                 color=\"white\" if cm[i, j] > thresh else \"black\")\n",
    "\n",
    "    plt.tight_layout()\n",
    "    plt.ylabel('True label')\n",
    "    plt.xlabel('Predicted label')\n"
   ]
  },
  {
   "cell_type": "code",
   "execution_count": null,
   "metadata": {},
   "outputs": [],
   "source": [
    "# Confusion matrix labels\n",
    "cm_plot_labels = ['Healthy', 'Diseased']"
   ]
  },
  {
   "cell_type": "code",
   "execution_count": null,
   "metadata": {},
   "outputs": [],
   "source": [
    "# Basic variables definition\n",
    "EPOCHS = 20\n",
    "INIT_LR = 1e-3\n",
    "BS = 32\n",
    "depth = 3\n",
    "IMG_SIZE = 256\n",
    "NUM_CLASSES = 2"
   ]
  },
  {
   "cell_type": "code",
   "execution_count": null,
   "metadata": {},
   "outputs": [],
   "source": [
    "def split_dataset_with_health_status(original_dataset_dir, output_base_dir, train_ratio=0.7, val_ratio=0.15, test_ratio=0.15, seed=42):\n",
    "    \"\"\"\n",
    "    Splits the original dataset into train, validation, and test sets based on the provided ratios,\n",
    "    categorizing images into 'Healthy' and 'Diseased' groups.\n",
    "\n",
    "    Parameters:\n",
    "    - original_dataset_dir (str): Path to the original dataset directory.\n",
    "    - output_base_dir (str): Path to the output directory where train, val, and test directories will be created.\n",
    "    - train_ratio (float): Ratio of images to be used for training.\n",
    "    - val_ratio (float): Ratio of images to be used for validation.\n",
    "    - test_ratio (float): Ratio of images to be used for testing.\n",
    "    - seed (int): Random seed for reproducibility.\n",
    "    \"\"\"\n",
    "    assert train_ratio + val_ratio + test_ratio == 1.0, \"Train, val, and test ratios must sum to 1.\"\n",
    "\n",
    "    # Set random seed for reproducibility\n",
    "    random.seed(seed)\n",
    "\n",
    "    # Creating output directories for train, val, and test\n",
    "    train_dir = os.path.join(output_base_dir, 'train')\n",
    "    val_dir = os.path.join(output_base_dir, 'val')\n",
    "    test_dir = os.path.join(output_base_dir, 'test')\n",
    "    os.makedirs(train_dir, exist_ok=True)\n",
    "    os.makedirs(val_dir, exist_ok=True)\n",
    "    os.makedirs(test_dir, exist_ok=True)\n",
    "\n",
    "    diseased_folders = ['Damaged', 'EarlyStage', 'LateStage', 'Old_Dead']  # Define diseased subclasses\n",
    "    healthy_folder = 'Healthy'  # Define healthy folder\n",
    "\n",
    "    # Handling Healthy class\n",
    "    healthy_path = os.path.join(original_dataset_dir, healthy_folder)\n",
    "    if os.path.isdir(healthy_path):\n",
    "        os.makedirs(os.path.join(train_dir, 'Healthy'), exist_ok=True)\n",
    "        os.makedirs(os.path.join(val_dir, 'Healthy'), exist_ok=True)\n",
    "        os.makedirs(os.path.join(test_dir, 'Healthy'), exist_ok=True)\n",
    "        \n",
    "        # Listing and shuffling images\n",
    "        healthy_images = [img for img in os.listdir(healthy_path) if os.path.isfile(os.path.join(healthy_path, img))]\n",
    "        random.shuffle(healthy_images)\n",
    "        \n",
    "        # Splitting the images\n",
    "        train_end = int(len(healthy_images) * train_ratio)\n",
    "        val_end = train_end + int(len(healthy_images) * val_ratio)\n",
    "\n",
    "        train_images = healthy_images[:train_end]\n",
    "        val_images = healthy_images[train_end:val_end]\n",
    "        test_images = healthy_images[val_end:]\n",
    "\n",
    "        # Copying images to respective directories\n",
    "        for img in train_images:\n",
    "            shutil.copy(os.path.join(healthy_path, img), os.path.join(train_dir, 'Healthy', img))\n",
    "        for img in val_images:\n",
    "            shutil.copy(os.path.join(healthy_path, img), os.path.join(val_dir, 'Healthy', img))\n",
    "        for img in test_images:\n",
    "            shutil.copy(os.path.join(healthy_path, img), os.path.join(test_dir, 'Healthy', img))\n",
    "\n",
    "    # Handling Diseased class by grouping all diseased subclasses together\n",
    "    os.makedirs(os.path.join(train_dir, 'Diseased'), exist_ok=True)\n",
    "    os.makedirs(os.path.join(val_dir, 'Diseased'), exist_ok=True)\n",
    "    os.makedirs(os.path.join(test_dir, 'Diseased'), exist_ok=True)\n",
    "\n",
    "    for diseased_subfolder in diseased_folders:\n",
    "        diseased_path = os.path.join(original_dataset_dir, diseased_subfolder)\n",
    "        if os.path.isdir(diseased_path):\n",
    "            # Listing and shuffling images\n",
    "            diseased_images = [img for img in os.listdir(diseased_path) if os.path.isfile(os.path.join(diseased_path, img))]\n",
    "            random.shuffle(diseased_images)\n",
    "            \n",
    "            # Splitting the images\n",
    "            train_end = int(len(diseased_images) * train_ratio)\n",
    "            val_end = train_end + int(len(diseased_images) * val_ratio)\n",
    "\n",
    "            train_images = diseased_images[:train_end]\n",
    "            val_images = diseased_images[train_end:val_end]\n",
    "            test_images = diseased_images[val_end:]\n",
    "\n",
    "            # Copying images to respective directories under 'Diseased'\n",
    "            for img in train_images:\n",
    "                shutil.copy(os.path.join(diseased_path, img), os.path.join(train_dir, 'Diseased', img))\n",
    "            for img in val_images:\n",
    "                shutil.copy(os.path.join(diseased_path, img), os.path.join(val_dir, 'Diseased', img))\n",
    "            for img in test_images:\n",
    "                shutil.copy(os.path.join(diseased_path, img), os.path.join(test_dir, 'Diseased', img))\n",
    "\n",
    "    print(f\"Dataset split into train ({train_ratio*100}%), val ({val_ratio*100}%), and test ({test_ratio*100}%) sets.\")"
   ]
  },
  {
   "cell_type": "code",
   "execution_count": null,
   "metadata": {},
   "outputs": [
    {
     "name": "stdout",
     "output_type": "stream",
     "text": [
      "Dataset split into train (70.0%), val (15.0%), and test (15.0%) sets.\n"
     ]
    }
   ],
   "source": [
    "# Example usage\n",
    "original_dataset_dir = 'Datasets/DBX/Cactus'  # Replace with the path to your original dataset\n",
    "output_base_dir = 'DatasetPreped'  # Replace with the path to output train/val/test folders\n",
    "\n",
    "split_dataset_with_health_status(original_dataset_dir, output_base_dir)\n"
   ]
  },
  {
   "cell_type": "code",
   "execution_count": null,
   "metadata": {},
   "outputs": [],
   "source": [
    "# Paths of train, validation, and test directories of the first dataset\n",
    "train_dir = \"DatasetPreped/train\"\n",
    "val_dir = \"DatasetPreped/val\"\n",
    "test_dir = \"DatasetPreped/test\"\n",
    "OUTPUT_DIR = 'ModelTraining'  # Directory to save models\n",
    "OUTPUT_DIR2 = 'ModelTraining2' \n",
    "os.makedirs(OUTPUT_DIR, exist_ok=True) \n",
    "os.makedirs(OUTPUT_DIR2, exist_ok=True)"
   ]
  },
  {
   "cell_type": "code",
   "execution_count": null,
   "metadata": {},
   "outputs": [
    {
     "name": "stdout",
     "output_type": "stream",
     "text": [
      "Found 2275 files belonging to 2 classes.\n",
      "Found 486 files belonging to 2 classes.\n",
      "Found 491 files belonging to 2 classes.\n"
     ]
    }
   ],
   "source": [
    "train_data = tf.keras.preprocessing.image_dataset_from_directory(\n",
    "    train_dir, \n",
    "    label_mode=\"categorical\", \n",
    "    image_size=(IMG_SIZE, IMG_SIZE), \n",
    "    batch_size=BS, \n",
    "    seed=42, \n",
    "    shuffle=True\n",
    ")\n",
    "val_data = tf.keras.preprocessing.image_dataset_from_directory(\n",
    "    val_dir, \n",
    "    label_mode=\"categorical\", \n",
    "    image_size=(IMG_SIZE, IMG_SIZE), \n",
    "    batch_size=BS, \n",
    "    seed=42, \n",
    "    shuffle=False\n",
    ")\n",
    "test_data = tf.keras.preprocessing.image_dataset_from_directory(\n",
    "    test_dir, \n",
    "    label_mode=\"categorical\", \n",
    "    image_size=(IMG_SIZE, IMG_SIZE), \n",
    "    batch_size=BS, \n",
    "    seed=42, \n",
    "    shuffle=False\n",
    ")\n"
   ]
  },
  {
   "cell_type": "code",
   "execution_count": null,
   "metadata": {},
   "outputs": [
    {
     "name": "stderr",
     "output_type": "stream",
     "text": [
      "C:\\Users\\khali\\AppData\\Local\\Temp\\ipykernel_24628\\2590158324.py:2: UserWarning: `input_shape` is undefined or non-square, or `rows` is not in [96, 128, 160, 192, 224]. Weights for input shape (224, 224) will be loaded as the default.\n",
      "  base_model = MobileNetV2(input_shape=(IMG_SIZE, IMG_SIZE, 3),\n"
     ]
    },
    {
     "name": "stdout",
     "output_type": "stream",
     "text": [
      "Downloading data from https://storage.googleapis.com/tensorflow/keras-applications/mobilenet_v2/mobilenet_v2_weights_tf_dim_ordering_tf_kernels_1.0_224_no_top.h5\n",
      "\u001b[1m9406464/9406464\u001b[0m \u001b[32m━━━━━━━━━━━━━━━━━━━━\u001b[0m\u001b[37m\u001b[0m \u001b[1m6s\u001b[0m 1us/step\n"
     ]
    }
   ],
   "source": [
    "# Load pre-trained MobileNetV2 without the top layer\n",
    "base_model = MobileNetV2(input_shape=(IMG_SIZE, IMG_SIZE, 3),\n",
    "                         include_top=False,\n",
    "                         weights='imagenet')\n",
    "\n",
    "base_model.trainable = False  # Freeze the base model"
   ]
  },
  {
   "cell_type": "code",
   "execution_count": null,
   "metadata": {},
   "outputs": [],
   "source": [
    "# Build the model\n",
    "model = Sequential([\n",
    "    base_model,\n",
    "    GlobalAveragePooling2D(),\n",
    "    Dropout(0.3),\n",
    "    Dense(128, activation='relu'),\n",
    "    Dropout(0.3),\n",
    "    Dense(2, activation='softmax')  # 2 classes for binary classification\n",
    "])\n",
    "\n",
    "# Compile the model\n",
    "model.compile(optimizer=tf.keras.optimizers.Adam(learning_rate=0.001),\n",
    "              loss='categorical_crossentropy',\n",
    "              metrics=['accuracy'])\n"
   ]
  },
  {
   "cell_type": "code",
   "execution_count": null,
   "metadata": {},
   "outputs": [],
   "source": [
    "# Define a custom model checkpoint callback\n",
    "class CustomModelCheckpoint(tf.keras.callbacks.Callback):\n",
    "    def __init__(self, output_dir):\n",
    "        super(CustomModelCheckpoint, self).__init__()\n",
    "        self.output_dir = output_dir\n",
    "        os.makedirs(output_dir, exist_ok=True)\n",
    "\n",
    "    def on_epoch_end(self, epoch, logs=None):\n",
    "        logs = logs or {}\n",
    "        loss = logs.get('val_loss', 0.0)\n",
    "        acc = logs.get('val_accuracy', 0.0)\n",
    "        filename = os.path.join(\n",
    "            self.output_dir,\n",
    "            f\"model_epoch_{epoch+1:02d}_val_loss_{loss:.4f}_val_acc_{acc:.4f}.keras\"\n",
    "        )\n",
    "        self.model.save(filename)\n",
    "        print(f\"Model saved: {filename}\")\n"
   ]
  },
  {
   "cell_type": "code",
   "execution_count": null,
   "metadata": {},
   "outputs": [],
   "source": [
    "# Define callbacks\n",
    "stop_early = tf.keras.callbacks.EarlyStopping(\n",
    "    monitor='val_loss', patience=5, restore_best_weights=True\n",
    ")\n",
    "\n",
    "reduce_lr = tf.keras.callbacks.ReduceLROnPlateau(\n",
    "    monitor='val_loss', factor=0.5, patience=3, min_lr=1e-7, verbose=1\n",
    ")"
   ]
  },
  {
   "cell_type": "code",
   "execution_count": null,
   "metadata": {},
   "outputs": [
    {
     "name": "stdout",
     "output_type": "stream",
     "text": [
      "Epoch 1/20\n",
      "\u001b[1m72/72\u001b[0m \u001b[32m━━━━━━━━━━━━━━━━━━━━\u001b[0m\u001b[37m\u001b[0m \u001b[1m0s\u001b[0m 221ms/step - accuracy: 0.9600 - loss: 0.1991"
     ]
    },
    {
     "name": "stderr",
     "output_type": "stream",
     "text": [
      "WARNING:absl:You are saving your model as an HDF5 file via `model.save()` or `keras.saving.save_model(model)`. This file format is considered legacy. We recommend using instead the native Keras format, e.g. `model.save('my_model.keras')` or `keras.saving.save_model(model, 'my_model.keras')`. \n"
     ]
    },
    {
     "name": "stdout",
     "output_type": "stream",
     "text": [
      "Model saved: ModelTraining\\model_epoch_01_val_loss_0.1528_val_acc_0.9630.h5\n",
      "\u001b[1m72/72\u001b[0m \u001b[32m━━━━━━━━━━━━━━━━━━━━\u001b[0m\u001b[37m\u001b[0m \u001b[1m23s\u001b[0m 282ms/step - accuracy: 0.9600 - loss: 0.1991 - val_accuracy: 0.9630 - val_loss: 0.1528 - learning_rate: 0.0010\n",
      "Epoch 2/20\n",
      "\u001b[1m71/72\u001b[0m \u001b[32m━━━━━━━━━━━━━━━━━━━\u001b[0m\u001b[37m━\u001b[0m \u001b[1m0s\u001b[0m 220ms/step - accuracy: 0.9667 - loss: 0.1464"
     ]
    },
    {
     "name": "stderr",
     "output_type": "stream",
     "text": [
      "WARNING:absl:You are saving your model as an HDF5 file via `model.save()` or `keras.saving.save_model(model)`. This file format is considered legacy. We recommend using instead the native Keras format, e.g. `model.save('my_model.keras')` or `keras.saving.save_model(model, 'my_model.keras')`. \n"
     ]
    },
    {
     "name": "stdout",
     "output_type": "stream",
     "text": [
      "Model saved: ModelTraining\\model_epoch_02_val_loss_0.1453_val_acc_0.9630.h5\n",
      "\u001b[1m72/72\u001b[0m \u001b[32m━━━━━━━━━━━━━━━━━━━━\u001b[0m\u001b[37m\u001b[0m \u001b[1m19s\u001b[0m 264ms/step - accuracy: 0.9666 - loss: 0.1468 - val_accuracy: 0.9630 - val_loss: 0.1453 - learning_rate: 0.0010\n",
      "Epoch 3/20\n",
      "\u001b[1m72/72\u001b[0m \u001b[32m━━━━━━━━━━━━━━━━━━━━\u001b[0m\u001b[37m\u001b[0m \u001b[1m0s\u001b[0m 214ms/step - accuracy: 0.9654 - loss: 0.1436"
     ]
    },
    {
     "name": "stderr",
     "output_type": "stream",
     "text": [
      "WARNING:absl:You are saving your model as an HDF5 file via `model.save()` or `keras.saving.save_model(model)`. This file format is considered legacy. We recommend using instead the native Keras format, e.g. `model.save('my_model.keras')` or `keras.saving.save_model(model, 'my_model.keras')`. \n"
     ]
    },
    {
     "name": "stdout",
     "output_type": "stream",
     "text": [
      "Model saved: ModelTraining\\model_epoch_03_val_loss_0.1470_val_acc_0.9630.h5\n",
      "\u001b[1m72/72\u001b[0m \u001b[32m━━━━━━━━━━━━━━━━━━━━\u001b[0m\u001b[37m\u001b[0m \u001b[1m19s\u001b[0m 262ms/step - accuracy: 0.9654 - loss: 0.1439 - val_accuracy: 0.9630 - val_loss: 0.1470 - learning_rate: 0.0010\n",
      "Epoch 4/20\n",
      "\u001b[1m71/72\u001b[0m \u001b[32m━━━━━━━━━━━━━━━━━━━\u001b[0m\u001b[37m━\u001b[0m \u001b[1m0s\u001b[0m 219ms/step - accuracy: 0.9659 - loss: 0.1407"
     ]
    },
    {
     "name": "stderr",
     "output_type": "stream",
     "text": [
      "WARNING:absl:You are saving your model as an HDF5 file via `model.save()` or `keras.saving.save_model(model)`. This file format is considered legacy. We recommend using instead the native Keras format, e.g. `model.save('my_model.keras')` or `keras.saving.save_model(model, 'my_model.keras')`. \n"
     ]
    },
    {
     "name": "stdout",
     "output_type": "stream",
     "text": [
      "Model saved: ModelTraining\\model_epoch_04_val_loss_0.1332_val_acc_0.9630.h5\n",
      "\u001b[1m72/72\u001b[0m \u001b[32m━━━━━━━━━━━━━━━━━━━━\u001b[0m\u001b[37m\u001b[0m \u001b[1m19s\u001b[0m 264ms/step - accuracy: 0.9658 - loss: 0.1410 - val_accuracy: 0.9630 - val_loss: 0.1332 - learning_rate: 0.0010\n",
      "Epoch 5/20\n",
      "\u001b[1m72/72\u001b[0m \u001b[32m━━━━━━━━━━━━━━━━━━━━\u001b[0m\u001b[37m\u001b[0m \u001b[1m0s\u001b[0m 214ms/step - accuracy: 0.9666 - loss: 0.1360"
     ]
    },
    {
     "name": "stderr",
     "output_type": "stream",
     "text": [
      "WARNING:absl:You are saving your model as an HDF5 file via `model.save()` or `keras.saving.save_model(model)`. This file format is considered legacy. We recommend using instead the native Keras format, e.g. `model.save('my_model.keras')` or `keras.saving.save_model(model, 'my_model.keras')`. \n"
     ]
    },
    {
     "name": "stdout",
     "output_type": "stream",
     "text": [
      "Model saved: ModelTraining\\model_epoch_05_val_loss_0.1337_val_acc_0.9630.h5\n",
      "\u001b[1m72/72\u001b[0m \u001b[32m━━━━━━━━━━━━━━━━━━━━\u001b[0m\u001b[37m\u001b[0m \u001b[1m19s\u001b[0m 263ms/step - accuracy: 0.9666 - loss: 0.1363 - val_accuracy: 0.9630 - val_loss: 0.1337 - learning_rate: 0.0010\n",
      "Epoch 6/20\n",
      "\u001b[1m72/72\u001b[0m \u001b[32m━━━━━━━━━━━━━━━━━━━━\u001b[0m\u001b[37m\u001b[0m \u001b[1m0s\u001b[0m 233ms/step - accuracy: 0.9667 - loss: 0.1315"
     ]
    },
    {
     "name": "stderr",
     "output_type": "stream",
     "text": [
      "WARNING:absl:You are saving your model as an HDF5 file via `model.save()` or `keras.saving.save_model(model)`. This file format is considered legacy. We recommend using instead the native Keras format, e.g. `model.save('my_model.keras')` or `keras.saving.save_model(model, 'my_model.keras')`. \n"
     ]
    },
    {
     "name": "stdout",
     "output_type": "stream",
     "text": [
      "Model saved: ModelTraining\\model_epoch_06_val_loss_0.1317_val_acc_0.9630.h5\n",
      "\u001b[1m72/72\u001b[0m \u001b[32m━━━━━━━━━━━━━━━━━━━━\u001b[0m\u001b[37m\u001b[0m \u001b[1m20s\u001b[0m 283ms/step - accuracy: 0.9667 - loss: 0.1318 - val_accuracy: 0.9630 - val_loss: 0.1317 - learning_rate: 0.0010\n",
      "Epoch 7/20\n",
      "\u001b[1m72/72\u001b[0m \u001b[32m━━━━━━━━━━━━━━━━━━━━\u001b[0m\u001b[37m\u001b[0m \u001b[1m0s\u001b[0m 230ms/step - accuracy: 0.9697 - loss: 0.1226"
     ]
    },
    {
     "name": "stderr",
     "output_type": "stream",
     "text": [
      "WARNING:absl:You are saving your model as an HDF5 file via `model.save()` or `keras.saving.save_model(model)`. This file format is considered legacy. We recommend using instead the native Keras format, e.g. `model.save('my_model.keras')` or `keras.saving.save_model(model, 'my_model.keras')`. \n"
     ]
    },
    {
     "name": "stdout",
     "output_type": "stream",
     "text": [
      "Model saved: ModelTraining\\model_epoch_07_val_loss_0.1347_val_acc_0.9630.h5\n",
      "\u001b[1m72/72\u001b[0m \u001b[32m━━━━━━━━━━━━━━━━━━━━\u001b[0m\u001b[37m\u001b[0m \u001b[1m20s\u001b[0m 280ms/step - accuracy: 0.9696 - loss: 0.1230 - val_accuracy: 0.9630 - val_loss: 0.1347 - learning_rate: 0.0010\n",
      "Epoch 8/20\n",
      "\u001b[1m72/72\u001b[0m \u001b[32m━━━━━━━━━━━━━━━━━━━━\u001b[0m\u001b[37m\u001b[0m \u001b[1m0s\u001b[0m 227ms/step - accuracy: 0.9651 - loss: 0.1347"
     ]
    },
    {
     "name": "stderr",
     "output_type": "stream",
     "text": [
      "WARNING:absl:You are saving your model as an HDF5 file via `model.save()` or `keras.saving.save_model(model)`. This file format is considered legacy. We recommend using instead the native Keras format, e.g. `model.save('my_model.keras')` or `keras.saving.save_model(model, 'my_model.keras')`. \n"
     ]
    },
    {
     "name": "stdout",
     "output_type": "stream",
     "text": [
      "Model saved: ModelTraining\\model_epoch_08_val_loss_0.1345_val_acc_0.9630.h5\n",
      "\u001b[1m72/72\u001b[0m \u001b[32m━━━━━━━━━━━━━━━━━━━━\u001b[0m\u001b[37m\u001b[0m \u001b[1m20s\u001b[0m 275ms/step - accuracy: 0.9650 - loss: 0.1350 - val_accuracy: 0.9630 - val_loss: 0.1345 - learning_rate: 0.0010\n",
      "Epoch 9/20\n",
      "\u001b[1m72/72\u001b[0m \u001b[32m━━━━━━━━━━━━━━━━━━━━\u001b[0m\u001b[37m\u001b[0m \u001b[1m0s\u001b[0m 225ms/step - accuracy: 0.9677 - loss: 0.1190\n",
      "Epoch 9: ReduceLROnPlateau reducing learning rate to 0.0005000000237487257.\n"
     ]
    },
    {
     "name": "stderr",
     "output_type": "stream",
     "text": [
      "WARNING:absl:You are saving your model as an HDF5 file via `model.save()` or `keras.saving.save_model(model)`. This file format is considered legacy. We recommend using instead the native Keras format, e.g. `model.save('my_model.keras')` or `keras.saving.save_model(model, 'my_model.keras')`. \n"
     ]
    },
    {
     "name": "stdout",
     "output_type": "stream",
     "text": [
      "Model saved: ModelTraining\\model_epoch_09_val_loss_0.1345_val_acc_0.9630.h5\n",
      "\u001b[1m72/72\u001b[0m \u001b[32m━━━━━━━━━━━━━━━━━━━━\u001b[0m\u001b[37m\u001b[0m \u001b[1m20s\u001b[0m 277ms/step - accuracy: 0.9676 - loss: 0.1193 - val_accuracy: 0.9630 - val_loss: 0.1345 - learning_rate: 0.0010\n",
      "Epoch 10/20\n",
      "\u001b[1m72/72\u001b[0m \u001b[32m━━━━━━━━━━━━━━━━━━━━\u001b[0m\u001b[37m\u001b[0m \u001b[1m0s\u001b[0m 227ms/step - accuracy: 0.9672 - loss: 0.1143"
     ]
    },
    {
     "name": "stderr",
     "output_type": "stream",
     "text": [
      "WARNING:absl:You are saving your model as an HDF5 file via `model.save()` or `keras.saving.save_model(model)`. This file format is considered legacy. We recommend using instead the native Keras format, e.g. `model.save('my_model.keras')` or `keras.saving.save_model(model, 'my_model.keras')`. \n"
     ]
    },
    {
     "name": "stdout",
     "output_type": "stream",
     "text": [
      "Model saved: ModelTraining\\model_epoch_10_val_loss_0.1307_val_acc_0.9630.h5\n",
      "\u001b[1m72/72\u001b[0m \u001b[32m━━━━━━━━━━━━━━━━━━━━\u001b[0m\u001b[37m\u001b[0m \u001b[1m20s\u001b[0m 276ms/step - accuracy: 0.9671 - loss: 0.1145 - val_accuracy: 0.9630 - val_loss: 0.1307 - learning_rate: 5.0000e-04\n",
      "Epoch 11/20\n",
      "\u001b[1m72/72\u001b[0m \u001b[32m━━━━━━━━━━━━━━━━━━━━\u001b[0m\u001b[37m\u001b[0m \u001b[1m0s\u001b[0m 223ms/step - accuracy: 0.9689 - loss: 0.1101"
     ]
    },
    {
     "name": "stderr",
     "output_type": "stream",
     "text": [
      "WARNING:absl:You are saving your model as an HDF5 file via `model.save()` or `keras.saving.save_model(model)`. This file format is considered legacy. We recommend using instead the native Keras format, e.g. `model.save('my_model.keras')` or `keras.saving.save_model(model, 'my_model.keras')`. \n"
     ]
    },
    {
     "name": "stdout",
     "output_type": "stream",
     "text": [
      "Model saved: ModelTraining\\model_epoch_11_val_loss_0.1313_val_acc_0.9609.h5\n",
      "\u001b[1m72/72\u001b[0m \u001b[32m━━━━━━━━━━━━━━━━━━━━\u001b[0m\u001b[37m\u001b[0m \u001b[1m20s\u001b[0m 271ms/step - accuracy: 0.9688 - loss: 0.1104 - val_accuracy: 0.9609 - val_loss: 0.1313 - learning_rate: 5.0000e-04\n",
      "Epoch 12/20\n",
      "\u001b[1m71/72\u001b[0m \u001b[32m━━━━━━━━━━━━━━━━━━━\u001b[0m\u001b[37m━\u001b[0m \u001b[1m0s\u001b[0m 219ms/step - accuracy: 0.9688 - loss: 0.1118"
     ]
    },
    {
     "name": "stderr",
     "output_type": "stream",
     "text": [
      "WARNING:absl:You are saving your model as an HDF5 file via `model.save()` or `keras.saving.save_model(model)`. This file format is considered legacy. We recommend using instead the native Keras format, e.g. `model.save('my_model.keras')` or `keras.saving.save_model(model, 'my_model.keras')`. \n"
     ]
    },
    {
     "name": "stdout",
     "output_type": "stream",
     "text": [
      "Model saved: ModelTraining\\model_epoch_12_val_loss_0.1288_val_acc_0.9630.h5\n",
      "\u001b[1m72/72\u001b[0m \u001b[32m━━━━━━━━━━━━━━━━━━━━\u001b[0m\u001b[37m\u001b[0m \u001b[1m19s\u001b[0m 265ms/step - accuracy: 0.9686 - loss: 0.1123 - val_accuracy: 0.9630 - val_loss: 0.1288 - learning_rate: 5.0000e-04\n",
      "Epoch 13/20\n",
      "\u001b[1m71/72\u001b[0m \u001b[32m━━━━━━━━━━━━━━━━━━━\u001b[0m\u001b[37m━\u001b[0m \u001b[1m0s\u001b[0m 216ms/step - accuracy: 0.9673 - loss: 0.1133"
     ]
    },
    {
     "name": "stderr",
     "output_type": "stream",
     "text": [
      "WARNING:absl:You are saving your model as an HDF5 file via `model.save()` or `keras.saving.save_model(model)`. This file format is considered legacy. We recommend using instead the native Keras format, e.g. `model.save('my_model.keras')` or `keras.saving.save_model(model, 'my_model.keras')`. \n"
     ]
    },
    {
     "name": "stdout",
     "output_type": "stream",
     "text": [
      "Model saved: ModelTraining\\model_epoch_13_val_loss_0.1308_val_acc_0.9630.h5\n",
      "\u001b[1m72/72\u001b[0m \u001b[32m━━━━━━━━━━━━━━━━━━━━\u001b[0m\u001b[37m\u001b[0m \u001b[1m19s\u001b[0m 259ms/step - accuracy: 0.9672 - loss: 0.1138 - val_accuracy: 0.9630 - val_loss: 0.1308 - learning_rate: 5.0000e-04\n",
      "Epoch 14/20\n",
      "\u001b[1m71/72\u001b[0m \u001b[32m━━━━━━━━━━━━━━━━━━━\u001b[0m\u001b[37m━\u001b[0m \u001b[1m0s\u001b[0m 209ms/step - accuracy: 0.9701 - loss: 0.1060"
     ]
    },
    {
     "name": "stderr",
     "output_type": "stream",
     "text": [
      "WARNING:absl:You are saving your model as an HDF5 file via `model.save()` or `keras.saving.save_model(model)`. This file format is considered legacy. We recommend using instead the native Keras format, e.g. `model.save('my_model.keras')` or `keras.saving.save_model(model, 'my_model.keras')`. \n"
     ]
    },
    {
     "name": "stdout",
     "output_type": "stream",
     "text": [
      "Model saved: ModelTraining\\model_epoch_14_val_loss_0.1298_val_acc_0.9630.h5\n",
      "\u001b[1m72/72\u001b[0m \u001b[32m━━━━━━━━━━━━━━━━━━━━\u001b[0m\u001b[37m\u001b[0m \u001b[1m18s\u001b[0m 252ms/step - accuracy: 0.9699 - loss: 0.1065 - val_accuracy: 0.9630 - val_loss: 0.1298 - learning_rate: 5.0000e-04\n",
      "Epoch 15/20\n",
      "\u001b[1m71/72\u001b[0m \u001b[32m━━━━━━━━━━━━━━━━━━━\u001b[0m\u001b[37m━\u001b[0m \u001b[1m0s\u001b[0m 207ms/step - accuracy: 0.9719 - loss: 0.1055\n",
      "Epoch 15: ReduceLROnPlateau reducing learning rate to 0.0002500000118743628.\n"
     ]
    },
    {
     "name": "stderr",
     "output_type": "stream",
     "text": [
      "WARNING:absl:You are saving your model as an HDF5 file via `model.save()` or `keras.saving.save_model(model)`. This file format is considered legacy. We recommend using instead the native Keras format, e.g. `model.save('my_model.keras')` or `keras.saving.save_model(model, 'my_model.keras')`. \n"
     ]
    },
    {
     "name": "stdout",
     "output_type": "stream",
     "text": [
      "Model saved: ModelTraining\\model_epoch_15_val_loss_0.1307_val_acc_0.9650.h5\n",
      "\u001b[1m72/72\u001b[0m \u001b[32m━━━━━━━━━━━━━━━━━━━━\u001b[0m\u001b[37m\u001b[0m \u001b[1m18s\u001b[0m 249ms/step - accuracy: 0.9716 - loss: 0.1061 - val_accuracy: 0.9650 - val_loss: 0.1307 - learning_rate: 5.0000e-04\n",
      "Epoch 16/20\n",
      "\u001b[1m71/72\u001b[0m \u001b[32m━━━━━━━━━━━━━━━━━━━\u001b[0m\u001b[37m━\u001b[0m \u001b[1m0s\u001b[0m 214ms/step - accuracy: 0.9700 - loss: 0.1029"
     ]
    },
    {
     "name": "stderr",
     "output_type": "stream",
     "text": [
      "WARNING:absl:You are saving your model as an HDF5 file via `model.save()` or `keras.saving.save_model(model)`. This file format is considered legacy. We recommend using instead the native Keras format, e.g. `model.save('my_model.keras')` or `keras.saving.save_model(model, 'my_model.keras')`. \n"
     ]
    },
    {
     "name": "stdout",
     "output_type": "stream",
     "text": [
      "Model saved: ModelTraining\\model_epoch_16_val_loss_0.1296_val_acc_0.9630.h5\n",
      "\u001b[1m72/72\u001b[0m \u001b[32m━━━━━━━━━━━━━━━━━━━━\u001b[0m\u001b[37m\u001b[0m \u001b[1m18s\u001b[0m 256ms/step - accuracy: 0.9698 - loss: 0.1035 - val_accuracy: 0.9630 - val_loss: 0.1296 - learning_rate: 2.5000e-04\n",
      "Epoch 17/20\n",
      "\u001b[1m72/72\u001b[0m \u001b[32m━━━━━━━━━━━━━━━━━━━━\u001b[0m\u001b[37m\u001b[0m \u001b[1m0s\u001b[0m 215ms/step - accuracy: 0.9697 - loss: 0.1003"
     ]
    },
    {
     "name": "stderr",
     "output_type": "stream",
     "text": [
      "WARNING:absl:You are saving your model as an HDF5 file via `model.save()` or `keras.saving.save_model(model)`. This file format is considered legacy. We recommend using instead the native Keras format, e.g. `model.save('my_model.keras')` or `keras.saving.save_model(model, 'my_model.keras')`. \n"
     ]
    },
    {
     "name": "stdout",
     "output_type": "stream",
     "text": [
      "Model saved: ModelTraining\\model_epoch_17_val_loss_0.1300_val_acc_0.9630.h5\n",
      "\u001b[1m72/72\u001b[0m \u001b[32m━━━━━━━━━━━━━━━━━━━━\u001b[0m\u001b[37m\u001b[0m \u001b[1m19s\u001b[0m 262ms/step - accuracy: 0.9696 - loss: 0.1006 - val_accuracy: 0.9630 - val_loss: 0.1300 - learning_rate: 2.5000e-04\n"
     ]
    }
   ],
   "source": [
    "# Train the model with callbacks\n",
    "history = model.fit(\n",
    "    train_data,\n",
    "    validation_data=val_data,\n",
    "    epochs=EPOCHS,\n",
    "    callbacks=[stop_early, reduce_lr, CustomModelCheckpoint(output_dir=OUTPUT_DIR)]\n",
    ")"
   ]
  },
  {
   "cell_type": "code",
   "execution_count": null,
   "metadata": {},
   "outputs": [
    {
     "name": "stdout",
     "output_type": "stream",
     "text": [
      "\u001b[1m16/16\u001b[0m \u001b[32m━━━━━━━━━━━━━━━━━━━━\u001b[0m\u001b[37m\u001b[0m \u001b[1m4s\u001b[0m 241ms/step - accuracy: 0.9945 - loss: 0.0622\n",
      "Test accuracy: 96.13%\n",
      "\u001b[1m16/16\u001b[0m \u001b[32m━━━━━━━━━━━━━━━━━━━━\u001b[0m\u001b[37m\u001b[0m \u001b[1m6s\u001b[0m 285ms/step\n"
     ]
    }
   ],
   "source": [
    "# Evaluate the model on the test data\n",
    "loss, accuracy = model.evaluate(test_data)\n",
    "print(f\"Test accuracy: {accuracy * 100:.2f}%\")\n",
    "\n",
    "# Predict the labels for the test dataset\n",
    "y_pred = model.predict(test_data)\n",
    "y_pred_classes = np.argmax(y_pred, axis=1)\n",
    "\n",
    "# Extract true labels\n",
    "y_true = np.concatenate([y for x, y in test_data], axis=0)\n",
    "y_true_classes = np.argmax(y_true, axis=1)\n"
   ]
  },
  {
   "cell_type": "code",
   "execution_count": null,
   "metadata": {},
   "outputs": [
    {
     "name": "stdout",
     "output_type": "stream",
     "text": [
      "Confusion Matrix:\n",
      " [[472   0]\n",
      " [ 19   0]]\n"
     ]
    },
    {
     "data": {
      "image/png": "[encoded data removed]",
      "text/plain": [
       "<Figure size 800x600 with 2 Axes>"
      ]
     },
     "metadata": {},
     "output_type": "display_data"
    }
   ],
   "source": [
    "# Generate confusion matrix\n",
    "conf_matrix = confusion_matrix(y_true_classes, y_pred_classes)\n",
    "print(\"Confusion Matrix:\\n\", conf_matrix)\n",
    "\n",
    "# Plot confusion matrix\n",
    "plt.figure(figsize=(8, 6))\n",
    "sns.heatmap(conf_matrix, annot=True, fmt='d', cmap='Blues', xticklabels=test_data.class_names, yticklabels=test_data.class_names)\n",
    "plt.xlabel('Predicted')\n",
    "plt.ylabel('True')\n",
    "plt.title('Confusion Matrix')\n",
    "plt.show()\n"
   ]
  },
  {
   "cell_type": "code",
   "execution_count": null,
   "metadata": {},
   "outputs": [
    {
     "name": "stdout",
     "output_type": "stream",
     "text": [
      "Classification Report:\n",
      "               precision    recall  f1-score   support\n",
      "\n",
      "    Diseased       0.96      1.00      0.98       472\n",
      "     Healthy       0.00      0.00      0.00        19\n",
      "\n",
      "    accuracy                           0.96       491\n",
      "   macro avg       0.48      0.50      0.49       491\n",
      "weighted avg       0.92      0.96      0.94       491\n",
      "\n"
     ]
    },
    {
     "name": "stderr",
     "output_type": "stream",
     "text": [
      "c:\\Users\\khali\\OneDrive\\Bureau\\amine\\CactiViT-materials-master\\.venv\\lib\\site-packages\\sklearn\\metrics\\_classification.py:1531: UndefinedMetricWarning: Precision is ill-defined and being set to 0.0 in labels with no predicted samples. Use `zero_division` parameter to control this behavior.\n",
      "  _warn_prf(average, modifier, f\"{metric.capitalize()} is\", len(result))\n",
      "c:\\Users\\khali\\OneDrive\\Bureau\\amine\\CactiViT-materials-master\\.venv\\lib\\site-packages\\sklearn\\metrics\\_classification.py:1531: UndefinedMetricWarning: Precision is ill-defined and being set to 0.0 in labels with no predicted samples. Use `zero_division` parameter to control this behavior.\n",
      "  _warn_prf(average, modifier, f\"{metric.capitalize()} is\", len(result))\n",
      "c:\\Users\\khali\\OneDrive\\Bureau\\amine\\CactiViT-materials-master\\.venv\\lib\\site-packages\\sklearn\\metrics\\_classification.py:1531: UndefinedMetricWarning: Precision is ill-defined and being set to 0.0 in labels with no predicted samples. Use `zero_division` parameter to control this behavior.\n",
      "  _warn_prf(average, modifier, f\"{metric.capitalize()} is\", len(result))\n"
     ]
    }
   ],
   "source": [
    "# Optional: Display a classification report\n",
    "print(\"Classification Report:\\n\", classification_report(y_true_classes, y_pred_classes, target_names=test_data.class_names))\n"
   ]
  },
  {
   "cell_type": "code",
   "execution_count": null,
   "metadata": {},
   "outputs": [],
   "source": [
    "# Data augmentation layer for robustness\n",
    "data_augmentation = tf.keras.Sequential([\n",
    "    tf.keras.layers.RandomFlip(\"horizontal\"),\n",
    "    tf.keras.layers.RandomRotation(0.2),\n",
    "    tf.keras.layers.RandomZoom(0.2),\n",
    "    tf.keras.layers.RandomContrast(0.2),\n",
    "    tf.keras.layers.RandomBrightness(0.2),  # Randomly changes brightness\n",
    "    tf.keras.layers.RandomTranslation(0.1, 0.1),  # Translate images slightly\n",
    "])"
   ]
  },
  {
   "cell_type": "code",
   "execution_count": null,
   "metadata": {},
   "outputs": [
    {
     "name": "stderr",
     "output_type": "stream",
     "text": [
      "C:\\Users\\khali\\AppData\\Local\\Temp\\ipykernel_24628\\2494182727.py:2: UserWarning: `input_shape` is undefined or non-square, or `rows` is not in [96, 128, 160, 192, 224]. Weights for input shape (224, 224) will be loaded as the default.\n",
      "  second_base_model = MobileNetV2(input_shape=(IMG_SIZE, IMG_SIZE, 3),\n"
     ]
    }
   ],
   "source": [
    "# Load pre-trained MobileNetV2 without the top layer\n",
    "second_base_model = MobileNetV2(input_shape=(IMG_SIZE, IMG_SIZE, 3),\n",
    "                         include_top=False,\n",
    "                         weights='imagenet')\n",
    "\n",
    "second_base_model.trainable = False  # Freeze the base model\n",
    "\n",
    "# Build the model with data augmentation\n",
    "second_model = Sequential([\n",
    "    data_augmentation,  # Apply data augmentation here\n",
    "    second_base_model,\n",
    "    GlobalAveragePooling2D(),\n",
    "    Dropout(0.3),\n",
    "    Dense(128, activation='relu'),\n",
    "    Dropout(0.3),\n",
    "    Dense(2, activation='softmax')  # 2 classes for binary classification\n",
    "])\n",
    "\n",
    "# Compile the model\n",
    "second_model.compile(optimizer=tf.keras.optimizers.Adam(learning_rate=0.001),\n",
    "              loss='categorical_crossentropy',\n",
    "              metrics=['accuracy'])\n",
    "\n"
   ]
  },
  {
   "cell_type": "code",
   "execution_count": null,
   "metadata": {},
   "outputs": [
    {
     "name": "stdout",
     "output_type": "stream",
     "text": [
      "Epoch 1/20\n",
      "\u001b[1m71/72\u001b[0m \u001b[32m━━━━━━━━━━━━━━━━━━━\u001b[0m\u001b[37m━\u001b[0m \u001b[1m0s\u001b[0m 176ms/step - accuracy: 0.9638 - loss: 0.1613Model saved: ModelTraining2\\model_epoch_01_val_loss_0.1482_val_acc_0.9630.keras\n",
      "\u001b[1m72/72\u001b[0m \u001b[32m━━━━━━━━━━━━━━━━━━━━\u001b[0m\u001b[37m\u001b[0m \u001b[1m15s\u001b[0m 210ms/step - accuracy: 0.9637 - loss: 0.1615 - val_accuracy: 0.9630 - val_loss: 0.1482 - learning_rate: 0.0010\n",
      "Epoch 2/20\n",
      "\u001b[1m71/72\u001b[0m \u001b[32m━━━━━━━━━━━━━━━━━━━\u001b[0m\u001b[37m━\u001b[0m \u001b[1m0s\u001b[0m 181ms/step - accuracy: 0.9641 - loss: 0.1573Model saved: ModelTraining2\\model_epoch_02_val_loss_0.1551_val_acc_0.9630.keras\n",
      "\u001b[1m72/72\u001b[0m \u001b[32m━━━━━━━━━━━━━━━━━━━━\u001b[0m\u001b[37m\u001b[0m \u001b[1m16s\u001b[0m 216ms/step - accuracy: 0.9641 - loss: 0.1575 - val_accuracy: 0.9630 - val_loss: 0.1551 - learning_rate: 0.0010\n",
      "Epoch 3/20\n",
      "\u001b[1m71/72\u001b[0m \u001b[32m━━━━━━━━━━━━━━━━━━━\u001b[0m\u001b[37m━\u001b[0m \u001b[1m0s\u001b[0m 176ms/step - accuracy: 0.9665 - loss: 0.1463Model saved: ModelTraining2\\model_epoch_03_val_loss_0.1750_val_acc_0.9630.keras\n",
      "\u001b[1m72/72\u001b[0m \u001b[32m━━━━━━━━━━━━━━━━━━━━\u001b[0m\u001b[37m\u001b[0m \u001b[1m15s\u001b[0m 209ms/step - accuracy: 0.9664 - loss: 0.1468 - val_accuracy: 0.9630 - val_loss: 0.1750 - learning_rate: 0.0010\n",
      "Epoch 4/20\n",
      "\u001b[1m71/72\u001b[0m \u001b[32m━━━━━━━━━━━━━━━━━━━\u001b[0m\u001b[37m━\u001b[0m \u001b[1m0s\u001b[0m 176ms/step - accuracy: 0.9653 - loss: 0.1515Model saved: ModelTraining2\\model_epoch_04_val_loss_0.1442_val_acc_0.9630.keras\n",
      "\u001b[1m72/72\u001b[0m \u001b[32m━━━━━━━━━━━━━━━━━━━━\u001b[0m\u001b[37m\u001b[0m \u001b[1m15s\u001b[0m 212ms/step - accuracy: 0.9652 - loss: 0.1518 - val_accuracy: 0.9630 - val_loss: 0.1442 - learning_rate: 0.0010\n",
      "Epoch 5/20\n",
      "\u001b[1m71/72\u001b[0m \u001b[32m━━━━━━━━━━━━━━━━━━━\u001b[0m\u001b[37m━\u001b[0m \u001b[1m0s\u001b[0m 180ms/step - accuracy: 0.9696 - loss: 0.1279Model saved: ModelTraining2\\model_epoch_05_val_loss_0.1535_val_acc_0.9630.keras\n",
      "\u001b[1m72/72\u001b[0m \u001b[32m━━━━━━━━━━━━━━━━━━━━\u001b[0m\u001b[37m\u001b[0m \u001b[1m15s\u001b[0m 215ms/step - accuracy: 0.9694 - loss: 0.1287 - val_accuracy: 0.9630 - val_loss: 0.1535 - learning_rate: 0.0010\n"
     ]
    }
   ],
   "source": [
    "# Fine-tune the model with callbacks\n",
    "fine_tune_history = second_model.fit(\n",
    "    train_data,\n",
    "    validation_data=val_data,\n",
    "    epochs=EPOCHS,\n",
    "    callbacks=[stop_early, reduce_lr, CustomModelCheckpoint(output_dir=OUTPUT_DIR2)]\n",
    ")"
   ]
  },
  {
   "cell_type": "code",
   "execution_count": null,
   "metadata": {},
   "outputs": [
    {
     "name": "stdout",
     "output_type": "stream",
     "text": [
      "\u001b[1m16/16\u001b[0m \u001b[32m━━━━━━━━━━━━━━━━━━━━\u001b[0m\u001b[37m\u001b[0m \u001b[1m2s\u001b[0m 147ms/step - accuracy: 0.9945 - loss: 0.0549\n",
      "Test accuracy: 96.13%\n",
      "\u001b[1m16/16\u001b[0m \u001b[32m━━━━━━━━━━━━━━━━━━━━\u001b[0m\u001b[37m\u001b[0m \u001b[1m2s\u001b[0m 138ms/step\n"
     ]
    }
   ],
   "source": [
    "# Evaluate the model on the test data\n",
    "loss2, accuracy2 = second_model.evaluate(test_data)\n",
    "print(f\"Test accuracy: {accuracy2 * 100:.2f}%\")\n",
    "\n",
    "# Predict the labels for the test dataset\n",
    "y_pred2 = second_model.predict(test_data)\n",
    "y_pred_classes2 = np.argmax(y_pred2, axis=1)\n",
    "\n",
    "# Extract true labels\n",
    "y_true2 = np.concatenate([y for x, y in test_data], axis=0)\n",
    "y_true_classes2 = np.argmax(y_true2, axis=1)\n"
   ]
  },
  {
   "cell_type": "code",
   "execution_count": null,
   "metadata": {},
   "outputs": [
    {
     "name": "stdout",
     "output_type": "stream",
     "text": [
      "Confusion Matrix:\n",
      " [[472   0]\n",
      " [ 19   0]]\n"
     ]
    },
    {
     "data": {
      "image/png": "[encoded data removed]",
      "text/plain": [
       "<Figure size 800x600 with 2 Axes>"
      ]
     },
     "metadata": {},
     "output_type": "display_data"
    }
   ],
   "source": [
    "# Generate confusion matrix\n",
    "conf_matrix2 = confusion_matrix(y_true_classes2, y_pred_classes2)\n",
    "print(\"Confusion Matrix:\\n\", conf_matrix2)\n",
    "\n",
    "# Plot confusion matrix\n",
    "plt.figure(figsize=(8, 6))\n",
    "sns.heatmap(conf_matrix2, annot=True, fmt='d', cmap='Blues', xticklabels=test_data.class_names, yticklabels=test_data.class_names)\n",
    "plt.xlabel('Predicted')\n",
    "plt.ylabel('True')\n",
    "plt.title('Confusion Matrix')\n",
    "plt.show()\n"
   ]
  },
  {
   "cell_type": "code",
   "execution_count": null,
   "metadata": {},
   "outputs": [
    {
     "name": "stdout",
     "output_type": "stream",
     "text": [
      "Classification Report:\n",
      "               precision    recall  f1-score   support\n",
      "\n",
      "    Diseased       0.96      1.00      0.98       472\n",
      "     Healthy       0.00      0.00      0.00        19\n",
      "\n",
      "    accuracy                           0.96       491\n",
      "   macro avg       0.48      0.50      0.49       491\n",
      "weighted avg       0.92      0.96      0.94       491\n",
      "\n"
     ]
    },
    {
     "name": "stderr",
     "output_type": "stream",
     "text": [
      "c:\\Users\\khali\\OneDrive\\Bureau\\amine\\CactiViT-materials-master\\.venv\\lib\\site-packages\\sklearn\\metrics\\_classification.py:1531: UndefinedMetricWarning: Precision is ill-defined and being set to 0.0 in labels with no predicted samples. Use `zero_division` parameter to control this behavior.\n",
      "  _warn_prf(average, modifier, f\"{metric.capitalize()} is\", len(result))\n",
      "c:\\Users\\khali\\OneDrive\\Bureau\\amine\\CactiViT-materials-master\\.venv\\lib\\site-packages\\sklearn\\metrics\\_classification.py:1531: UndefinedMetricWarning: Precision is ill-defined and being set to 0.0 in labels with no predicted samples. Use `zero_division` parameter to control this behavior.\n",
      "  _warn_prf(average, modifier, f\"{metric.capitalize()} is\", len(result))\n",
      "c:\\Users\\khali\\OneDrive\\Bureau\\amine\\CactiViT-materials-master\\.venv\\lib\\site-packages\\sklearn\\metrics\\_classification.py:1531: UndefinedMetricWarning: Precision is ill-defined and being set to 0.0 in labels with no predicted samples. Use `zero_division` parameter to control this behavior.\n",
      "  _warn_prf(average, modifier, f\"{metric.capitalize()} is\", len(result))\n"
     ]
    }
   ],
   "source": [
    "# Optional: Display a classification report\n",
    "print(\"Classification Report:\\n\", classification_report(y_true_classes2, y_pred_classes2, target_names=test_data.class_names))\n"
   ]
  },
  {
   "cell_type": "code",
   "execution_count": null,
   "metadata": {},
   "outputs": [],
   "source": []
  }
 ],
 "metadata": {
  "kernelspec": {
   "display_name": "cactus",
   "language": "python",
   "name": "python3"
  },
  "language_info": {
   "codemirror_mode": {
    "name": "ipython",
    "version": 3
   },
   "file_extension": ".py",
   "mimetype": "text/x-python",
   "name": "python",
   "nbconvert_exporter": "python",
   "pygments_lexer": "ipython3",
   "version": "3.10.11"
  }
 },
 "nbformat": 4,
 "nbformat_minor": 2
}
